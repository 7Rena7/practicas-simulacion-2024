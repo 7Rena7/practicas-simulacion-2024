{
 "cells": [
  {
   "cell_type": "code",
   "execution_count": 1,
   "metadata": {},
   "outputs": [],
   "source": [
    "import numpy as np\n",
    "import matplotlib.pyplot as plt"
   ]
  },
  {
   "cell_type": "code",
   "execution_count": null,
   "metadata": {},
   "outputs": [],
   "source": [
    "\n",
    "\n",
    "# Transformada Inversa\n",
    "def uniforme_transformada_inversa(n, a=0, b=1):\n",
    "    u = np.random.rand(n)\n",
    "    return a + (b - a) * u\n",
    "\n",
    "# Método de Rechazo\n",
    "def uniforme_metodo_rechazo(n, a=0, b=1):\n",
    "    samples = []\n",
    "    while len(samples) < n:\n",
    "        x = np.random.uniform(a, b)\n",
    "        y = np.random.uniform(0, 1)\n",
    "        if y <= 1 / (b - a):\n",
    "            samples.append(x)\n",
    "    return np.array(samples)\n",
    "\n",
    "# Testeo\n",
    "n = 10000\n",
    "samples_ti = uniforme_transformada_inversa(n)\n",
    "samples_mr = uniforme_metodo_rechazo(n)\n",
    "\n",
    "plt.hist(samples_ti, bins=50, alpha=0.5, label='Transformada Inversa')\n",
    "plt.hist(samples_mr, bins=50, alpha=0.5, label='Método de Rechazo')\n",
    "plt.legend()\n",
    "plt.show()\n"
   ]
  },
  {
   "cell_type": "code",
   "execution_count": null,
   "metadata": {},
   "outputs": [],
   "source": [
    "# Transformada Inversa\n",
    "def exponencial_transformada_inversa(n, lambda_=1):\n",
    "    u = np.random.rand(n)\n",
    "    return -np.log(1 - u) / lambda_\n",
    "\n",
    "# Método de Rechazo\n",
    "def exponencial_metodo_rechazo(n, lambda_=1):\n",
    "    samples = []\n",
    "    while len(samples) < n:\n",
    "        x = np.random.exponential(1 / lambda_)\n",
    "        y = np.random.uniform(0, lambda_ * np.exp(-lambda_ * x))\n",
    "        if y <= lambda_ * np.exp(-lambda_ * x):\n",
    "            samples.append(x)\n",
    "    return np.array(samples)\n",
    "\n",
    "# Testeo\n",
    "n = 10000\n",
    "samples_ti = exponencial_transformada_inversa(n)\n",
    "samples_mr = exponencial_metodo_rechazo(n)\n",
    "\n",
    "plt.hist(samples_ti, bins=50, alpha=0.5, label='Transformada Inversa')\n",
    "plt.hist(samples_mr, bins=50, alpha=0.5, label='Método de Rechazo')\n",
    "plt.legend()\n",
    "plt.show()\n"
   ]
  }
 ],
 "metadata": {
  "kernelspec": {
   "display_name": "Python 3",
   "language": "python",
   "name": "python3"
  },
  "language_info": {
   "codemirror_mode": {
    "name": "ipython",
    "version": 3
   },
   "file_extension": ".py",
   "mimetype": "text/x-python",
   "name": "python",
   "nbconvert_exporter": "python",
   "pygments_lexer": "ipython3",
   "version": "3.10.6"
  }
 },
 "nbformat": 4,
 "nbformat_minor": 2
}
